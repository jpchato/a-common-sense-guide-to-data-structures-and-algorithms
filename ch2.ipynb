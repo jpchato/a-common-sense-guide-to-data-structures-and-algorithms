{
 "metadata": {
  "language_info": {
   "codemirror_mode": {
    "name": "ipython",
    "version": 3
   },
   "file_extension": ".py",
   "mimetype": "text/x-python",
   "name": "python",
   "nbconvert_exporter": "python",
   "pygments_lexer": "ipython3",
   "version": "3.8.2-final"
  },
  "orig_nbformat": 2,
  "kernelspec": {
   "name": "python3",
   "display_name": "Python 3.8.2 64-bit",
   "metadata": {
    "interpreter": {
     "hash": "6117a40e35560b2a23196184848ecd03f953e08c35e7c3418618b701a1a2605e"
    }
   }
  }
 },
 "nbformat": 4,
 "nbformat_minor": 2,
 "cells": [
  {
   "source": [
    "# Why Algorithms Matter\n",
    "* An algorithm is a particular process for solving a problem\n",
    "* Algorithms can make code fast or slow \n",
    "\n",
    "## Ordered Arrays\n",
    "* Values are kept in order \n",
    "    * Every time a value is added it gets placed in the proper cell so taht the values of the array remain sorted \n",
    "* When inserting into an ordered array, there is a search before the insertion \n",
    "\n",
    "## Searching an Ordered Array\n",
    "* Searches cna stop early even if the vlaue isn't contained within the array because it is ordered\n"
   ],
   "cell_type": "markdown",
   "metadata": {}
  },
  {
   "cell_type": "code",
   "execution_count": 3,
   "metadata": {},
   "outputs": [],
   "source": [
    "def linear_search(array, value):\n",
    "    for item in array:\n",
    "        if item == value:\n",
    "            return value\n",
    "        elif item > value:\n",
    "            break\n",
    "    return None\n"
   ]
  },
  {
   "source": [
    "* The linear search is only one possible algorithm for searching an array\n",
    "* Big advantage of an ordered array over a regular array is that an ordered array allows for an alternative search algorithm, binary search\n",
    "* Binary search is must faster than linear linear_search\n",
    "\n",
    "# Binary Search\n",
    "* The major advantage of an ordered array over a standard array is that we have the option of performing a binary search rather than a linear shearch. Binary search is impossible with a standard array because the values can be in any order. \n",
    "* "
   ],
   "cell_type": "markdown",
   "metadata": {}
  },
  {
   "cell_type": "code",
   "execution_count": null,
   "metadata": {},
   "outputs": [],
   "source": [
    "def binary_search(arr, val):\n",
    "    # first , we establish the lower and upper bounds of where the value we're searching for can be. To start, the lower boudn is the first value in the array, while the upper         bound is the last value\n",
    "    lower_bound = 0\n",
    "    upper_bound = len(arr) - 1\n",
    "    # we begin a loop in which we keep inspecting the middlemost value between the upper and lower bounds:\n",
    "    while lower_bound <= upper_bound:\n",
    "        # find the middlepoitn between the upper and lower bounds: \n",
    "        midpoint = (upper_bound + lower_bound)//2\n",
    "        # we inspect the value at the midpoint\n",
    "        value_at_midpoint = arr[midpoint]\n",
    "        # If the value at the midpoint is the one we're looking for, we're done. If not, we change the lower or upper bound based on whether we need to guess higher or lwoer:\n",
    "        if val < value_at_midpoint:\n",
    "            upper_bound = midpoint - 1\n",
    "        elif val > value_at_midpoint:\n",
    "           lower_bound = midpoint + 1\n",
    "        elif val = value_at_midpoint:\n",
    "            return midpoint\n",
    "    #  If we've narrowed the bounds until they've reached each other, that means that the value we're searching for is not in the array\n",
    "    return Null \n",
    "\n"
   ]
  },
  {
   "source": [
    "# Binary Search vs Linear Search\n",
    "* With an array containing one hundrred values, the max number of steps for linear search is 100, for binary search 7 \n",
    "* Every time we double the number of items in an ordered array,k the number of steps needed for binary search increases by just one\n",
    "* With linear search there are as many steps as there are items \n",
    "* \n"
   ],
   "cell_type": "code",
   "metadata": {},
   "execution_count": null,
   "outputs": []
  }
 ]
}