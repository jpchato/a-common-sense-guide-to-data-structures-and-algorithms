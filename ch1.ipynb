{
 "metadata": {
  "language_info": {
   "codemirror_mode": {
    "name": "ipython",
    "version": 3
   },
   "file_extension": ".py",
   "mimetype": "text/x-python",
   "name": "python",
   "nbconvert_exporter": "python",
   "pygments_lexer": "ipython3",
   "version": "3.8.2-final"
  },
  "orig_nbformat": 2,
  "kernelspec": {
   "name": "python3",
   "display_name": "Python 3.8.2 64-bit",
   "metadata": {
    "interpreter": {
     "hash": "6117a40e35560b2a23196184848ecd03f953e08c35e7c3418618b701a1a2605e"
    }
   }
  }
 },
 "nbformat": 4,
 "nbformat_minor": 2,
 "cells": [
  {
   "cell_type": "code",
   "execution_count": 3,
   "metadata": {},
   "outputs": [
    {
     "output_type": "stream",
     "name": "stdout",
     "text": [
      "Hello! How are you today?\n"
     ]
    }
   ],
   "source": [
    "x = 'Hello! '\n",
    "y = 'How are you '\n",
    "z = 'today?'\n",
    "print (x + y + z)"
   ]
  },
  {
   "source": [
    "* arrays vs sets\n",
    "* Array\n",
    "    * The foundational data structure\n",
    "    * a list of data elements"
   ],
   "cell_type": "markdown",
   "metadata": {}
  },
  {
   "cell_type": "code",
   "execution_count": 4,
   "metadata": {},
   "outputs": [],
   "source": [
    "array = [\"apples\", \"bananas\", \"cucumbers\", \"dates\", \"elderberries\"]"
   ]
  },
  {
   "source": [
    "# Arrays\n",
    "* the index of an array is the number that identifies where a piece of data lives inside the array\n",
    "* apples is at index 0, bananas at 1, etc.\n",
    "* Most data strucutres are used in four basic ways, which we are refered to as operations\n",
    "    1. Read - reading referes to looking something up from a particular spot within the data structure. With an array, this would mean looking up a value at a particular index\n",
    "    2. Search - searching referes to looking for a particular value within a data structure. With an array, this would mean looking to see if a particular value exists within in the array, and if so, which index it's at. \n",
    "    3. Insert - insertion refers to adding another value to our data structure. With an array, this would mean adding a new value to an additional slot within the array.\n",
    "    4. Delete - deletion refers to removing a value from our data structure. With an array, this would mean removing one of the vlaues from the array.\n",
    "* When we measure how fast an operation takes, we do not refer to how fast the operation takes in terms of pure time, but instead in how many steps it takes\n",
    "* Measuring the number of steps is therefore the key to analyzing the speed of an operation aka its *time complexity*\n",
    "* speed = time complexity = efficiency = performance\n",
    "    * all are used interchangeably \n",
    "# Read\n",
    "* Reading from an array takes one step because computers have the ability to jump to any index and peer inside\n",
    "* reading from an array is an efficient operation because it takes one step, this is why the array is such a powerful data structure\n",
    "# Searching \n",
    "* Searching an array is looking to see whether a particular value exists within an array and if so, which index it's located at\n",
    "* linear search - computer checks each cell of an array one at a time\n",
    "* linear search takes n steps where n is the length of the array\n",
    "* searching is less efficient than reading\n",
    "# Insertion\n",
    "* The efficiency of inserting a new piece of data insdie an array depends on where inside the array the data is being inserted\n",
    "* Inserting to the end of an array takes one step\n",
    "* Inserting anywhere else takes many steps \n",
    "* The worst-case scenario is that it takes N + 1 steps for an array containing N elements\n",
    "    * inserting into the beginning of an array in which there are N shifts and one insertion\n",
    "# Deletion\n",
    "* deletion from an array is the process of eliminating the value at a particular index\n",
    "* deletion takes N steps where N is the length of the array"
   ],
   "cell_type": "markdown",
   "metadata": {}
  },
  {
   "source": [
    "# Sets\n",
    "* A set is a data structure that does not allow duplicate values to be contained within it\n",
    "* array-based set : a simple list of values\n",
    "* The only difference between this set and a classic array is that the set never allows duplicate values to be inserted into it\n",
    "* Sets are useful when you need to ensure that you don't have duplicate data\n",
    "* a set of [\"a\", \"b\", \"c\"] cannot have 'a', 'b', or 'c' added to it \n",
    "* By not allowing duplicates, sets have a different efficiency for one of the four primary operations\n",
    "* Reading is the same for sets\n",
    "* Searching is the same\n",
    "* Deletion is the same\n",
    "* Insertion is different \n",
    "    * Every insert for a set first requires a search to prevent duplicates\n",
    "* Insertion requries 2N + 1 steps (worst-case scenario, inserting at beginning of a set)\n",
    "    * search n cells, then shift all cells to the right, then insert\n",
    "* "
   ],
   "cell_type": "markdown",
   "metadata": {}
  }
 ]
}