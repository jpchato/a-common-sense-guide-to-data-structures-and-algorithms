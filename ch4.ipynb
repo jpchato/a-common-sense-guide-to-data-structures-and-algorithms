{
 "metadata": {
  "language_info": {
   "codemirror_mode": {
    "name": "ipython",
    "version": 3
   },
   "file_extension": ".py",
   "mimetype": "text/x-python",
   "name": "python",
   "nbconvert_exporter": "python",
   "pygments_lexer": "ipython3",
   "version": "3.8.2"
  },
  "orig_nbformat": 2,
  "kernelspec": {
   "name": "python382jvsc74a57bd06117a40e35560b2a23196184848ecd03f953e08c35e7c3418618b701a1a2605e",
   "display_name": "Python 3.8.2 64-bit ('Jesse-gyDODcXw': pipenv)"
  }
 },
 "nbformat": 4,
 "nbformat_minor": 2,
 "cells": [
  {
   "cell_type": "code",
   "execution_count": 1,
   "metadata": {},
   "outputs": [
    {
     "output_type": "stream",
     "name": "stdout",
     "text": [
      "[10, 15, 25, 35, 45, 55, 65]\n"
     ]
    }
   ],
   "source": [
    "# Bubble Sort\n",
    "def bubble_sort(list):\n",
    "    unsorted_list_index = len(list) - 1\n",
    "    sorted = False\n",
    "\n",
    "    while not sorted:\n",
    "        sorted = True\n",
    "        for i in range(unsorted_list_index):\n",
    "            if list[i] > list[i + 1]:\n",
    "                sorted = False\n",
    "                list[i], list[i + 1] = list[i + 1], list[i]\n",
    "        unsorted_list_index = unsorted_list_index - 1\n",
    "\n",
    "list = [65, 55, 45, 35, 25, 15, 10]\n",
    "bubble_sort(list)\n",
    "print (list)"
   ]
  },
  {
   "source": [
    "# The Efficiency of Bubble Sort\n",
    "* Bubble sort contains two kinds of steps\n",
    "    * comparisons: two numbers are compared to determine which is greater\n",
    "    * swaps: two numbers are swapped to to sort them\n",
    "* As the number of elements increase, the number of steps grows exponentially\n",
    "* O(N^2) aka quadratic time\n"
   ],
   "cell_type": "markdown",
   "metadata": {}
  },
  {
   "source": [],
   "cell_type": "code",
   "metadata": {},
   "execution_count": null,
   "outputs": []
  }
 ]
}