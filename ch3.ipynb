{
 "metadata": {
  "language_info": {
   "codemirror_mode": {
    "name": "ipython",
    "version": 3
   },
   "file_extension": ".py",
   "mimetype": "text/x-python",
   "name": "python",
   "nbconvert_exporter": "python",
   "pygments_lexer": "ipython3",
   "version": "3.8.2"
  },
  "orig_nbformat": 2,
  "kernelspec": {
   "name": "python382jvsc74a57bd06117a40e35560b2a23196184848ecd03f953e08c35e7c3418618b701a1a2605e",
   "display_name": "Python 3.8.2 64-bit ('Jesse-gyDODcXw': pipenv)"
  }
 },
 "nbformat": 4,
 "nbformat_minor": 2,
 "cells": [
  {
   "source": [
    "# Big O: Count the Steps\n",
    "* Big O achieves consistency by focusing only on the number of steps that an algorithm takes\n",
    "* Reading from an array takes one step - O(1)  \n",
    "    * The algorithm takes the same number of steps no matter how much data there is. \n",
    "* Insertion/Deletion of a value at the end of an array - O(1) \n",
    "* Linear Search - Searching an array for a value by checking each cell - worst case, check all cells - O(N) \n",
    "    * For N elements inside an array, the algorithm would take N steps to complete \n",
    "\n",
    "# Constant Time vs Linear Time\n",
    "* Big O notation describes how many steps an algorithm takes based on teh nubmer of data eleemnts that the algorithm is acting upon. \n",
    "* Big O notation answers the question, how does the number of steps change as the data increases? \n",
    "* O(N) is known as linear time \n",
    "* O(1) is known as constant time \n",
    "* An algorithm can be desribed as O(1) even if it takes more than one step. If the number of steps remains constant regardless of data \n",
    "\n",
    "# Same Algorithm, Different Scenarios \n",
    "* Linear Search - Best Case Scenario O(1), Worst Case Scenario O(N), but we describe it as O(N) \n",
    "* The pessimistic approach to desribing algortihms can help us know exactly how inefficient an algorithm can get will prepare us for the wosrt and may impact our choices \n",
    "\n",
    "# An Algorithm of The Third Kind \n",
    "* Binary search - O(log N) - log time \n",
    "* O(log N) - increases one step each time the data is doubled \n",
    "* Most efficient to least efficient --- O(1) --> O(log N) --> O(N)\n",
    "\n",
    "# O(log N) Explained\n",
    "*"
   ],
   "cell_type": "markdown",
   "metadata": {}
  },
  {
   "cell_type": "code",
   "execution_count": 5,
   "metadata": {},
   "outputs": [
    {
     "output_type": "stream",
     "name": "stdout",
     "text": [
      "Here's a thing:  apples\nHere's a thing:  baboons\nHere's a thing:  cribs\nHere's a thing:  dulcimers\n"
     ]
    }
   ],
   "source": [
    "things = ['apples', 'baboons', 'cribs', 'dulcimers']\n",
    "for thing in things:\n",
    "    print (\"Here's a thing: \", thing)\n",
    "# O(N) "
   ]
  },
  {
   "cell_type": "code",
   "execution_count": 6,
   "metadata": {},
   "outputs": [
    {
     "output_type": "stream",
     "name": "stdout",
     "text": [
      "hello world\n"
     ]
    }
   ],
   "source": [
    "print('hello world')\n",
    "# O(1)"
   ]
  },
  {
   "cell_type": "code",
   "execution_count": null,
   "metadata": {},
   "outputs": [],
   "source": [
    "def is_prime(number):\n",
    "    for i in range(2, number):\n",
    "        if number % i == 0:\n",
    "            return False\n",
    "    return True\n",
    "# O(N)"
   ]
  }
 ]
}